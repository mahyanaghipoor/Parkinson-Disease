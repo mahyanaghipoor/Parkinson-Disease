{
 "cells": [
  {
   "cell_type": "code",
   "execution_count": 1,
   "id": "b2f8ac0d",
   "metadata": {},
   "outputs": [
    {
     "name": "stdout",
     "output_type": "stream",
     "text": [
      "Columns in D:/DOC Aarabi/parkinson/new paper/new13-06/text/structuralGradientOne_hc_ses01.csv: ['1', '2', '3', '4', '5', '6', '7', '8', '9', '10', '11', '12', '13', '14', '15', '16', '17', '18', '19', '20', '21', '22', '23', '24', '25', '26', '27', '28', '29', '30', '31', '32', '33', '34', '35', '36', '37', '38', '39', '40', '41', '42', '43', '44', '45', '46', '47', '48', '49', '50', '51', '52', '53', '54', '55', '56', '57', '58', '59', '60', '61', '62', '63', '64', '65', '66', '67', '68', '69', '70', '71', '72', '73', '74', '75', '76', '77', '78', '79', '80', '81', '82', '83', '84', '85', '86', '87', '88', '89', '90', '91', '92', '93', '94', '95', '96', '97', '98', '99', '100']\n",
      "Columns in D:/DOC Aarabi/parkinson/new paper/new13-06/text/structuralGradientTwo_hc_ses01.csv: ['1', '2', '3', '4', '5', '6', '7', '8', '9', '10', '11', '12', '13', '14', '15', '16', '17', '18', '19', '20', '21', '22', '23', '24', '25', '26', '27', '28', '29', '30', '31', '32', '33', '34', '35', '36', '37', '38', '39', '40', '41', '42', '43', '44', '45', '46', '47', '48', '49', '50', '51', '52', '53', '54', '55', '56', '57', '58', '59', '60', '61', '62', '63', '64', '65', '66', '67', '68', '69', '70', '71', '72', '73', '74', '75', '76', '77', '78', '79', '80', '81', '82', '83', '84', '85', '86', '87', '88', '89', '90', '91', '92', '93', '94', '95', '96', '97', '98', '99', '100']\n",
      "Columns in D:/DOC Aarabi/parkinson/new paper/new13-06/text/structuralGradientThree_hc_ses01.csv: ['1', '2', '3', '4', '5', '6', '7', '8', '9', '10', '11', '12', '13', '14', '15', '16', '17', '18', '19', '20', '21', '22', '23', '24', '25', '26', '27', '28', '29', '30', '31', '32', '33', '34', '35', '36', '37', '38', '39', '40', '41', '42', '43', '44', '45', '46', '47', '48', '49', '50', '51', '52', '53', '54', '55', '56', '57', '58', '59', '60', '61', '62', '63', '64', '65', '66', '67', '68', '69', '70', '71', '72', '73', '74', '75', '76', '77', '78', '79', '80', '81', '82', '83', '84', '85', '86', '87', '88', '89', '90', '91', '92', '93', '94', '95', '96', '97', '98', '99', '100']\n"
     ]
    },
    {
     "data": {
      "text/plain": [
       "['D:/DOC Aarabi/parkinson/new paper/new13-06/text/subnetwork_1_Vis.xlsx',\n",
       " 'D:/DOC Aarabi/parkinson/new paper/new13-06/text/subnetwork_1_SomMot.xlsx',\n",
       " 'D:/DOC Aarabi/parkinson/new paper/new13-06/text/subnetwork_1_DorsAttn.xlsx',\n",
       " 'D:/DOC Aarabi/parkinson/new paper/new13-06/text/subnetwork_1_SalVentAttn.xlsx',\n",
       " 'D:/DOC Aarabi/parkinson/new paper/new13-06/text/subnetwork_1_Limbic.xlsx',\n",
       " 'D:/DOC Aarabi/parkinson/new paper/new13-06/text/subnetwork_1_Cont.xlsx',\n",
       " 'D:/DOC Aarabi/parkinson/new paper/new13-06/text/subnetwork_1_Default.xlsx',\n",
       " 'D:/DOC Aarabi/parkinson/new paper/new13-06/text/subnetwork_2_Vis.xlsx',\n",
       " 'D:/DOC Aarabi/parkinson/new paper/new13-06/text/subnetwork_2_SomMot.xlsx',\n",
       " 'D:/DOC Aarabi/parkinson/new paper/new13-06/text/subnetwork_2_DorsAttn.xlsx',\n",
       " 'D:/DOC Aarabi/parkinson/new paper/new13-06/text/subnetwork_2_SalVentAttn.xlsx',\n",
       " 'D:/DOC Aarabi/parkinson/new paper/new13-06/text/subnetwork_2_Limbic.xlsx',\n",
       " 'D:/DOC Aarabi/parkinson/new paper/new13-06/text/subnetwork_2_Cont.xlsx',\n",
       " 'D:/DOC Aarabi/parkinson/new paper/new13-06/text/subnetwork_2_Default.xlsx',\n",
       " 'D:/DOC Aarabi/parkinson/new paper/new13-06/text/subnetwork_3_Vis.xlsx',\n",
       " 'D:/DOC Aarabi/parkinson/new paper/new13-06/text/subnetwork_3_SomMot.xlsx',\n",
       " 'D:/DOC Aarabi/parkinson/new paper/new13-06/text/subnetwork_3_DorsAttn.xlsx',\n",
       " 'D:/DOC Aarabi/parkinson/new paper/new13-06/text/subnetwork_3_SalVentAttn.xlsx',\n",
       " 'D:/DOC Aarabi/parkinson/new paper/new13-06/text/subnetwork_3_Limbic.xlsx',\n",
       " 'D:/DOC Aarabi/parkinson/new paper/new13-06/text/subnetwork_3_Cont.xlsx',\n",
       " 'D:/DOC Aarabi/parkinson/new paper/new13-06/text/subnetwork_3_Default.xlsx']"
      ]
     },
     "execution_count": 1,
     "metadata": {},
     "output_type": "execute_result"
    }
   ],
   "source": [
    "import pandas as pd\n",
    "\n",
    "# زیرشبکه‌ها و نودهای مربوط به آن‌ها (بازه‌های نودها)\n",
    "subnetworks = {\n",
    "    'Vis': (1, 9, 51, 59),  # نودهای 1 تا 9 و 51 تا 59 متعلق به Vis\n",
    "    'SomMot': (10, 15, 60, 68),  # نودهای 10 تا 15 و 60 تا 68 متعلق به SomMot\n",
    "    'DorsAttn': (16, 23, 69, 75),  # نودهای 16 تا 23 و 69 تا 75 متعلق به DorsAttn\n",
    "    'SalVentAttn': (24, 30, 76, 80),  # نودهای 24 تا 30 و 76 تا 80 متعلق به SalVentAttn\n",
    "    'Limbic': (31, 33, 81, 82),  # نودهای 31 تا 33 و 81 تا 82 متعلق به Limbic\n",
    "    'Cont': (34, 37, 83, 91),  # نودهای 34 تا 37 و 83 تا 91 متعلق به Cont\n",
    "    'Default': (38, 50, 92, 100),  # نودهای 38 تا 50 و 92 تا 100 متعلق به Default\n",
    "}\n",
    "\n",
    "# فایل‌های ورودی\n",
    "input_files = [\n",
    "    'D:/DOC Aarabi/parkinson/new paper/new13-06/text/structuralGradientOne_hc_ses01.csv',\n",
    "    'D:/DOC Aarabi/parkinson/new paper/new13-06/text/structuralGradientTwo_hc_ses01.csv',\n",
    "    'D:/DOC Aarabi/parkinson/new paper/new13-06/text/structuralGradientThree_hc_ses01.csv'\n",
    "]\n",
    "\n",
    "# تابع برای جداسازی زیرشبکه‌ها از داده‌ها\n",
    "def separate_subnetworks(file_path, subnetworks):\n",
    "    df = pd.read_csv(file_path)\n",
    "    \n",
    "    # چاپ نام ستون‌ها برای بررسی\n",
    "    print(f\"Columns in {file_path}: {df.columns.tolist()}\")\n",
    "    \n",
    "    subnet_data = {}\n",
    "    \n",
    "    for name, (start1, end1, start2, end2) in subnetworks.items():\n",
    "        # استخراج نودها برای هر زیرشبکه\n",
    "        selected_columns = df.columns[start1-1:end1].tolist() + df.columns[start2-1:end2].tolist()\n",
    "        \n",
    "        try:\n",
    "            subnet_data[name] = df[selected_columns]\n",
    "        except KeyError as e:\n",
    "            print(f\"Error with subnet {name}: {e}\")\n",
    "    \n",
    "    return subnet_data\n",
    "\n",
    "# ذخیره داده‌های جدا شده برای هر فایل در مسیر مشخص شده\n",
    "output_files = []\n",
    "output_dir = 'D:/DOC Aarabi/parkinson/new paper/new13-06/text/'  # مسیر ذخیره فایل‌ها\n",
    "for i, file_path in enumerate(input_files):\n",
    "    subnet_data = separate_subnetworks(file_path, subnetworks)\n",
    "    \n",
    "    # ذخیره هر زیرشبکه در یک فایل Excel جدید\n",
    "    for subnet, data in subnet_data.items():\n",
    "        output_filename = f\"{output_dir}subnetwork_{i+1}_{subnet}.xlsx\"\n",
    "        data.to_excel(output_filename, index=False, engine='openpyxl')  # ذخیره به فرمت Excel\n",
    "        output_files.append(output_filename)\n",
    "\n",
    "# نمایش فایل‌های ذخیره شده\n",
    "output_files\n"
   ]
  }
 ],
 "metadata": {
  "kernelspec": {
   "display_name": "Python 3",
   "language": "python",
   "name": "python3"
  },
  "language_info": {
   "codemirror_mode": {
    "name": "ipython",
    "version": 3
   },
   "file_extension": ".py",
   "mimetype": "text/x-python",
   "name": "python",
   "nbconvert_exporter": "python",
   "pygments_lexer": "ipython3",
   "version": "3.13.1"
  }
 },
 "nbformat": 4,
 "nbformat_minor": 5
}
